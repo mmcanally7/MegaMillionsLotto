{
 "cells": [
  {
   "cell_type": "code",
   "execution_count": 40,
   "id": "f7e0cd2c",
   "metadata": {},
   "outputs": [],
   "source": [
    "import numpy as np\n",
    "import pandas as pd\n",
    "from sklearn.preprocessing import StandardScaler"
   ]
  },
  {
   "cell_type": "code",
   "execution_count": 41,
   "id": "1fda383e",
   "metadata": {},
   "outputs": [],
   "source": [
    "url = \"https://www.kaggle.com/datasets/chrico03/us-mega-millions-historical-numbers\""
   ]
  },
  {
   "cell_type": "code",
   "execution_count": 42,
   "id": "c6682fea",
   "metadata": {},
   "outputs": [
    {
     "name": "stdout",
     "output_type": "stream",
     "text": [
      "us-mega-millions-historical-numbers.zip: Skipping, found more recently modified local copy (use --force to force download)\n"
     ]
    }
   ],
   "source": [
    "!kaggle datasets download -d chrico03/us-mega-millions-historical-numbers"
   ]
  },
  {
   "cell_type": "code",
   "execution_count": 45,
   "id": "8ab56916",
   "metadata": {},
   "outputs": [],
   "source": [
    "import zipfile\n",
    "with zipfile.ZipFile(\"us-mega-millions-historical-numbers.zip\",\"r\") as zip_ref:\n",
    "    zip_ref.extractall(\"data//\")"
   ]
  },
  {
   "cell_type": "code",
   "execution_count": 47,
   "id": "65a6b248",
   "metadata": {},
   "outputs": [],
   "source": [
    "df = pd.read_csv(\"data//mega_millions_historic.csv\")"
   ]
  },
  {
   "cell_type": "code",
   "execution_count": 48,
   "id": "77b39886",
   "metadata": {},
   "outputs": [
    {
     "name": "stdout",
     "output_type": "stream",
     "text": [
      "(1303, 8)\n",
      "['date', 'ball_1', 'ball_2', 'ball_3', 'ball_4', 'ball_5', 'mega_ball', 'mega_plier']\n"
     ]
    }
   ],
   "source": [
    "print(df.shape)\n",
    "print(list(df.columns))"
   ]
  },
  {
   "cell_type": "code",
   "execution_count": 49,
   "id": "4e6215e2",
   "metadata": {},
   "outputs": [
    {
     "data": {
      "text/html": [
       "<div>\n",
       "<style scoped>\n",
       "    .dataframe tbody tr th:only-of-type {\n",
       "        vertical-align: middle;\n",
       "    }\n",
       "\n",
       "    .dataframe tbody tr th {\n",
       "        vertical-align: top;\n",
       "    }\n",
       "\n",
       "    .dataframe thead th {\n",
       "        text-align: right;\n",
       "    }\n",
       "</style>\n",
       "<table border=\"1\" class=\"dataframe\">\n",
       "  <thead>\n",
       "    <tr style=\"text-align: right;\">\n",
       "      <th></th>\n",
       "      <th>date</th>\n",
       "      <th>ball_1</th>\n",
       "      <th>ball_2</th>\n",
       "      <th>ball_3</th>\n",
       "      <th>ball_4</th>\n",
       "      <th>ball_5</th>\n",
       "      <th>mega_ball</th>\n",
       "      <th>mega_plier</th>\n",
       "    </tr>\n",
       "  </thead>\n",
       "  <tbody>\n",
       "    <tr>\n",
       "      <th>0</th>\n",
       "      <td>7/26/2022</td>\n",
       "      <td>7</td>\n",
       "      <td>29</td>\n",
       "      <td>60</td>\n",
       "      <td>63</td>\n",
       "      <td>66</td>\n",
       "      <td>15</td>\n",
       "      <td>3X</td>\n",
       "    </tr>\n",
       "    <tr>\n",
       "      <th>1</th>\n",
       "      <td>7/22/2022</td>\n",
       "      <td>14</td>\n",
       "      <td>40</td>\n",
       "      <td>60</td>\n",
       "      <td>64</td>\n",
       "      <td>66</td>\n",
       "      <td>16</td>\n",
       "      <td>3X</td>\n",
       "    </tr>\n",
       "    <tr>\n",
       "      <th>2</th>\n",
       "      <td>7/19/2022</td>\n",
       "      <td>2</td>\n",
       "      <td>31</td>\n",
       "      <td>32</td>\n",
       "      <td>37</td>\n",
       "      <td>70</td>\n",
       "      <td>25</td>\n",
       "      <td>3X</td>\n",
       "    </tr>\n",
       "    <tr>\n",
       "      <th>3</th>\n",
       "      <td>7/15/2022</td>\n",
       "      <td>8</td>\n",
       "      <td>20</td>\n",
       "      <td>26</td>\n",
       "      <td>53</td>\n",
       "      <td>64</td>\n",
       "      <td>15</td>\n",
       "      <td>5X</td>\n",
       "    </tr>\n",
       "    <tr>\n",
       "      <th>4</th>\n",
       "      <td>7/12/2022</td>\n",
       "      <td>4</td>\n",
       "      <td>7</td>\n",
       "      <td>10</td>\n",
       "      <td>45</td>\n",
       "      <td>64</td>\n",
       "      <td>12</td>\n",
       "      <td>2X</td>\n",
       "    </tr>\n",
       "  </tbody>\n",
       "</table>\n",
       "</div>"
      ],
      "text/plain": [
       "        date  ball_1  ball_2  ball_3  ball_4  ball_5  mega_ball mega_plier\n",
       "0  7/26/2022       7      29      60      63      66         15         3X\n",
       "1  7/22/2022      14      40      60      64      66         16         3X\n",
       "2  7/19/2022       2      31      32      37      70         25         3X\n",
       "3  7/15/2022       8      20      26      53      64         15         5X\n",
       "4  7/12/2022       4       7      10      45      64         12         2X"
      ]
     },
     "execution_count": 49,
     "metadata": {},
     "output_type": "execute_result"
    }
   ],
   "source": [
    "df.head()"
   ]
  },
  {
   "cell_type": "code",
   "execution_count": 50,
   "id": "462b9178",
   "metadata": {},
   "outputs": [],
   "source": [
    "df['mega_plier'] = df['mega_plier'].apply(lambda x: float(str(x).replace(\"X\",\"\")))"
   ]
  },
  {
   "cell_type": "code",
   "execution_count": 51,
   "id": "0604b514",
   "metadata": {},
   "outputs": [],
   "source": [
    "df['ball_1'] = df['ball_1'].apply(lambda x: float(str(x)))\n",
    "df['ball_2'] = df['ball_2'].apply(lambda x: float(str(x)))\n",
    "df['ball_3'] = df['ball_3'].apply(lambda x: float(str(x)))\n",
    "df['ball_4'] = df['ball_4'].apply(lambda x: float(str(x)))\n",
    "df['ball_5'] = df['ball_5'].apply(lambda x: float(str(x)))\n",
    "df['mega_ball'] = df['mega_ball'].apply(lambda x: float(str(x)))"
   ]
  },
  {
   "cell_type": "code",
   "execution_count": 52,
   "id": "6b3242a7",
   "metadata": {},
   "outputs": [
    {
     "data": {
      "text/html": [
       "<div>\n",
       "<style scoped>\n",
       "    .dataframe tbody tr th:only-of-type {\n",
       "        vertical-align: middle;\n",
       "    }\n",
       "\n",
       "    .dataframe tbody tr th {\n",
       "        vertical-align: top;\n",
       "    }\n",
       "\n",
       "    .dataframe thead th {\n",
       "        text-align: right;\n",
       "    }\n",
       "</style>\n",
       "<table border=\"1\" class=\"dataframe\">\n",
       "  <thead>\n",
       "    <tr style=\"text-align: right;\">\n",
       "      <th></th>\n",
       "      <th>date</th>\n",
       "      <th>ball_1</th>\n",
       "      <th>ball_2</th>\n",
       "      <th>ball_3</th>\n",
       "      <th>ball_4</th>\n",
       "      <th>ball_5</th>\n",
       "      <th>mega_ball</th>\n",
       "      <th>mega_plier</th>\n",
       "    </tr>\n",
       "  </thead>\n",
       "  <tbody>\n",
       "    <tr>\n",
       "      <th>0</th>\n",
       "      <td>7/26/2022</td>\n",
       "      <td>7.0</td>\n",
       "      <td>29.0</td>\n",
       "      <td>60.0</td>\n",
       "      <td>63.0</td>\n",
       "      <td>66.0</td>\n",
       "      <td>15.0</td>\n",
       "      <td>3.0</td>\n",
       "    </tr>\n",
       "    <tr>\n",
       "      <th>1</th>\n",
       "      <td>7/22/2022</td>\n",
       "      <td>14.0</td>\n",
       "      <td>40.0</td>\n",
       "      <td>60.0</td>\n",
       "      <td>64.0</td>\n",
       "      <td>66.0</td>\n",
       "      <td>16.0</td>\n",
       "      <td>3.0</td>\n",
       "    </tr>\n",
       "    <tr>\n",
       "      <th>2</th>\n",
       "      <td>7/19/2022</td>\n",
       "      <td>2.0</td>\n",
       "      <td>31.0</td>\n",
       "      <td>32.0</td>\n",
       "      <td>37.0</td>\n",
       "      <td>70.0</td>\n",
       "      <td>25.0</td>\n",
       "      <td>3.0</td>\n",
       "    </tr>\n",
       "    <tr>\n",
       "      <th>3</th>\n",
       "      <td>7/15/2022</td>\n",
       "      <td>8.0</td>\n",
       "      <td>20.0</td>\n",
       "      <td>26.0</td>\n",
       "      <td>53.0</td>\n",
       "      <td>64.0</td>\n",
       "      <td>15.0</td>\n",
       "      <td>5.0</td>\n",
       "    </tr>\n",
       "    <tr>\n",
       "      <th>4</th>\n",
       "      <td>7/12/2022</td>\n",
       "      <td>4.0</td>\n",
       "      <td>7.0</td>\n",
       "      <td>10.0</td>\n",
       "      <td>45.0</td>\n",
       "      <td>64.0</td>\n",
       "      <td>12.0</td>\n",
       "      <td>2.0</td>\n",
       "    </tr>\n",
       "  </tbody>\n",
       "</table>\n",
       "</div>"
      ],
      "text/plain": [
       "        date  ball_1  ball_2  ball_3  ball_4  ball_5  mega_ball  mega_plier\n",
       "0  7/26/2022     7.0    29.0    60.0    63.0    66.0       15.0         3.0\n",
       "1  7/22/2022    14.0    40.0    60.0    64.0    66.0       16.0         3.0\n",
       "2  7/19/2022     2.0    31.0    32.0    37.0    70.0       25.0         3.0\n",
       "3  7/15/2022     8.0    20.0    26.0    53.0    64.0       15.0         5.0\n",
       "4  7/12/2022     4.0     7.0    10.0    45.0    64.0       12.0         2.0"
      ]
     },
     "execution_count": 52,
     "metadata": {},
     "output_type": "execute_result"
    }
   ],
   "source": [
    "df.head()"
   ]
  },
  {
   "cell_type": "code",
   "execution_count": 53,
   "id": "01ecc9cd",
   "metadata": {},
   "outputs": [
    {
     "data": {
      "text/html": [
       "<div>\n",
       "<style scoped>\n",
       "    .dataframe tbody tr th:only-of-type {\n",
       "        vertical-align: middle;\n",
       "    }\n",
       "\n",
       "    .dataframe tbody tr th {\n",
       "        vertical-align: top;\n",
       "    }\n",
       "\n",
       "    .dataframe thead th {\n",
       "        text-align: right;\n",
       "    }\n",
       "</style>\n",
       "<table border=\"1\" class=\"dataframe\">\n",
       "  <thead>\n",
       "    <tr style=\"text-align: right;\">\n",
       "      <th></th>\n",
       "      <th>date</th>\n",
       "      <th>ball_1</th>\n",
       "      <th>ball_2</th>\n",
       "      <th>ball_3</th>\n",
       "      <th>ball_4</th>\n",
       "      <th>ball_5</th>\n",
       "      <th>mega_ball</th>\n",
       "      <th>mega_plier</th>\n",
       "    </tr>\n",
       "  </thead>\n",
       "  <tbody>\n",
       "    <tr>\n",
       "      <th>1298</th>\n",
       "      <td>2/16/2010</td>\n",
       "      <td>11.0</td>\n",
       "      <td>12.0</td>\n",
       "      <td>21.0</td>\n",
       "      <td>29.0</td>\n",
       "      <td>45.0</td>\n",
       "      <td>5.0</td>\n",
       "      <td>3.0</td>\n",
       "    </tr>\n",
       "    <tr>\n",
       "      <th>1299</th>\n",
       "      <td>2/12/2010</td>\n",
       "      <td>14.0</td>\n",
       "      <td>16.0</td>\n",
       "      <td>17.0</td>\n",
       "      <td>33.0</td>\n",
       "      <td>47.0</td>\n",
       "      <td>23.0</td>\n",
       "      <td>4.0</td>\n",
       "    </tr>\n",
       "    <tr>\n",
       "      <th>1300</th>\n",
       "      <td>2/9/2010</td>\n",
       "      <td>2.0</td>\n",
       "      <td>17.0</td>\n",
       "      <td>20.0</td>\n",
       "      <td>26.0</td>\n",
       "      <td>48.0</td>\n",
       "      <td>12.0</td>\n",
       "      <td>4.0</td>\n",
       "    </tr>\n",
       "    <tr>\n",
       "      <th>1301</th>\n",
       "      <td>2/5/2010</td>\n",
       "      <td>10.0</td>\n",
       "      <td>20.0</td>\n",
       "      <td>45.0</td>\n",
       "      <td>51.0</td>\n",
       "      <td>53.0</td>\n",
       "      <td>41.0</td>\n",
       "      <td>4.0</td>\n",
       "    </tr>\n",
       "    <tr>\n",
       "      <th>1302</th>\n",
       "      <td>2/2/2010</td>\n",
       "      <td>6.0</td>\n",
       "      <td>7.0</td>\n",
       "      <td>26.0</td>\n",
       "      <td>27.0</td>\n",
       "      <td>49.0</td>\n",
       "      <td>9.0</td>\n",
       "      <td>4.0</td>\n",
       "    </tr>\n",
       "  </tbody>\n",
       "</table>\n",
       "</div>"
      ],
      "text/plain": [
       "           date  ball_1  ball_2  ball_3  ball_4  ball_5  mega_ball  mega_plier\n",
       "1298  2/16/2010    11.0    12.0    21.0    29.0    45.0        5.0         3.0\n",
       "1299  2/12/2010    14.0    16.0    17.0    33.0    47.0       23.0         4.0\n",
       "1300   2/9/2010     2.0    17.0    20.0    26.0    48.0       12.0         4.0\n",
       "1301   2/5/2010    10.0    20.0    45.0    51.0    53.0       41.0         4.0\n",
       "1302   2/2/2010     6.0     7.0    26.0    27.0    49.0        9.0         4.0"
      ]
     },
     "execution_count": 53,
     "metadata": {},
     "output_type": "execute_result"
    }
   ],
   "source": [
    "df.tail()"
   ]
  },
  {
   "cell_type": "code",
   "execution_count": 57,
   "id": "a17ae6e4",
   "metadata": {},
   "outputs": [
    {
     "data": {
      "text/plain": [
       "date          0\n",
       "ball_1        0\n",
       "ball_2        0\n",
       "ball_3        0\n",
       "ball_4        0\n",
       "ball_5        0\n",
       "mega_ball     0\n",
       "mega_plier    0\n",
       "dtype: int64"
      ]
     },
     "execution_count": 57,
     "metadata": {},
     "output_type": "execute_result"
    }
   ],
   "source": [
    "df_nan_counts = df.isna().sum()\n",
    "df_nan_counts"
   ]
  },
  {
   "cell_type": "code",
   "execution_count": 59,
   "id": "f17a5d3f",
   "metadata": {},
   "outputs": [],
   "source": [
    "df.to_csv('data/mega_millions_2010_to_2022.csv', index=False) "
   ]
  },
  {
   "cell_type": "code",
   "execution_count": null,
   "id": "e95b2505",
   "metadata": {},
   "outputs": [],
   "source": []
  }
 ],
 "metadata": {
  "kernelspec": {
   "display_name": "Python 3 (ipykernel)",
   "language": "python",
   "name": "python3"
  },
  "language_info": {
   "codemirror_mode": {
    "name": "ipython",
    "version": 3
   },
   "file_extension": ".py",
   "mimetype": "text/x-python",
   "name": "python",
   "nbconvert_exporter": "python",
   "pygments_lexer": "ipython3",
   "version": "3.10.9"
  }
 },
 "nbformat": 4,
 "nbformat_minor": 5
}
